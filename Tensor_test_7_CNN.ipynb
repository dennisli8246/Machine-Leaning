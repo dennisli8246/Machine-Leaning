{
  "nbformat": 4,
  "nbformat_minor": 0,
  "metadata": {
    "colab": {
      "provenance": [],
      "toc_visible": true,
      "authorship_tag": "ABX9TyN5SDY0d2eF9IIrWZSrd97R",
      "include_colab_link": true
    },
    "kernelspec": {
      "name": "python3",
      "display_name": "Python 3"
    },
    "language_info": {
      "name": "python"
    }
  },
  "cells": [
    {
      "cell_type": "markdown",
      "metadata": {
        "id": "view-in-github",
        "colab_type": "text"
      },
      "source": [
        "<a href=\"https://colab.research.google.com/github/dennisli8246/Machine-Leaning/blob/main/Tensor_test_7_CNN.ipynb\" target=\"_parent\"><img src=\"https://colab.research.google.com/assets/colab-badge.svg\" alt=\"Open In Colab\"/></a>"
      ]
    },
    {
      "cell_type": "markdown",
      "source": [
        "# MNIST手寫數字辨識"
      ],
      "metadata": {
        "id": "tlPj-bi32hdV"
      }
    },
    {
      "cell_type": "markdown",
      "source": [
        "總共有訓練數據6萬張，測試數據1萬張"
      ],
      "metadata": {
        "id": "HAtpi_FG2gyv"
      }
    },
    {
      "cell_type": "markdown",
      "source": [
        "step 1:匯入套件"
      ],
      "metadata": {
        "id": "asJVut9c3IsP"
      }
    },
    {
      "cell_type": "code",
      "execution_count": null,
      "metadata": {
        "id": "m5novBgSpLqb"
      },
      "outputs": [],
      "source": [
        "import torch\n",
        "import torch.nn as nn\n",
        "import torch.nn.functional as F\n",
        "import torch.optim as optim\n",
        "\n",
        "from torch.utils.data import DataLoader\n",
        "from torchvision import datasets,transforms\n",
        "import matplotlib.pyplot as plt\n"
      ]
    },
    {
      "cell_type": "markdown",
      "source": [
        "step 2:設定亂數種子"
      ],
      "metadata": {
        "id": "X1BxFAz34Drp"
      }
    },
    {
      "cell_type": "code",
      "source": [
        "torch.manual_seed(0)"
      ],
      "metadata": {
        "colab": {
          "base_uri": "https://localhost:8080/"
        },
        "id": "HLGTT4ms4WDt",
        "outputId": "f1e04413-c08a-46ac-8e05-6469cb3bdbb0"
      },
      "execution_count": null,
      "outputs": [
        {
          "output_type": "execute_result",
          "data": {
            "text/plain": [
              "<torch._C.Generator at 0x7f12356c9930>"
            ]
          },
          "metadata": {},
          "execution_count": 4
        }
      ]
    },
    {
      "cell_type": "markdown",
      "source": [
        "step 3:定義轉換函數，用torchvision模組將圖片轉換成張量"
      ],
      "metadata": {
        "id": "rd-dY6u84Vob"
      }
    },
    {
      "cell_type": "code",
      "source": [
        "transform=transforms.Compose([transforms.ToTensor()])#經過transform會把0~255轉乘0~1\n"
      ],
      "metadata": {
        "id": "C4crsdVO5ZTG"
      },
      "execution_count": null,
      "outputs": []
    },
    {
      "cell_type": "markdown",
      "source": [
        "step 4:讀取數據及，並且轉換成張量"
      ],
      "metadata": {
        "id": "r0F_EkfQ5YkT"
      }
    },
    {
      "cell_type": "code",
      "source": [
        "train_data=datasets.MNIST('data/',train=True,download=True,transform=transform)\n",
        "test_data=datasets.MNIST('data/',train=True,download=False,transform=transform)"
      ],
      "metadata": {
        "id": "xh30Q3zy51Fl"
      },
      "execution_count": null,
      "outputs": []
    },
    {
      "cell_type": "markdown",
      "source": [
        "step 5:查詢訓練集及測試集的數據形狀"
      ],
      "metadata": {
        "id": "_G7htAgf6Rp7"
      }
    },
    {
      "cell_type": "code",
      "source": [
        "train_x=train_data.data\n",
        "train_y=train_data.targets\n",
        "test_x=test_data.data\n",
        "test_y=test_data.targets\n",
        "\n",
        "print(train_x.shape,train_y.shape,test_x.shape,test_y.shape)\n"
      ],
      "metadata": {
        "colab": {
          "base_uri": "https://localhost:8080/"
        },
        "id": "_IpjIJSL6crU",
        "outputId": "a9d0cde8-1d5a-4ad8-c53a-0ea59a5d2cea"
      },
      "execution_count": null,
      "outputs": [
        {
          "output_type": "stream",
          "name": "stdout",
          "text": [
            "torch.Size([60000, 28, 28]) torch.Size([60000]) torch.Size([60000, 28, 28]) torch.Size([60000])\n"
          ]
        }
      ]
    },
    {
      "cell_type": "markdown",
      "source": [
        "step 6:查看第0筆圖片的形狀"
      ],
      "metadata": {
        "id": "SON1sEiA7Cd-"
      }
    },
    {
      "cell_type": "code",
      "source": [
        "image=train_data.train_data[0]\n",
        "plt.imshow(image.numpy(), cmap = 'gray')\n",
        "print(image.shape)\n",
        "\n",
        "img,label =train_data[0]\n",
        "print(img.shape)\n",
        "#torch.Size([1, 28, 28])(通道,高,寬)因為是黑白所以只有1個通道"
      ],
      "metadata": {
        "colab": {
          "base_uri": "https://localhost:8080/",
          "height": 522
        },
        "id": "ZGee2Ssf7RA7",
        "outputId": "451da6e4-3f89-41b8-f9c2-b5da49fbacf7"
      },
      "execution_count": null,
      "outputs": [
        {
          "output_type": "stream",
          "name": "stderr",
          "text": [
            "/usr/local/lib/python3.10/dist-packages/torchvision/datasets/mnist.py:75: UserWarning: train_data has been renamed data\n",
            "  warnings.warn(\"train_data has been renamed data\")\n"
          ]
        },
        {
          "output_type": "stream",
          "name": "stdout",
          "text": [
            "torch.Size([28, 28])\n",
            "torch.Size([1, 28, 28])\n"
          ]
        },
        {
          "output_type": "display_data",
          "data": {
            "text/plain": [
              "<Figure size 640x480 with 1 Axes>"
            ],
            "image/png": "[encoded data removed]"
          },
          "metadata": {}
        }
      ]
    },
    {
      "cell_type": "markdown",
      "source": [
        "step 7:查看圖片的最小像素值及最大像素值"
      ],
      "metadata": {
        "id": "bwz4thYW7QB5"
      }
    },
    {
      "cell_type": "code",
      "source": [
        "print(img.min(),img.max())\n",
        "print(image.min(),image.max())"
      ],
      "metadata": {
        "colab": {
          "base_uri": "https://localhost:8080/"
        },
        "id": "tdKvdpVRAd5c",
        "outputId": "0d90a19a-4660-44ae-8b51-fd548bed7a44"
      },
      "execution_count": null,
      "outputs": [
        {
          "output_type": "stream",
          "name": "stdout",
          "text": [
            "tensor(0.) tensor(1.)\n",
            "tensor(0, dtype=torch.uint8) tensor(255, dtype=torch.uint8)\n"
          ]
        }
      ]
    },
    {
      "cell_type": "markdown",
      "source": [
        "step 8:顯字第0筆圖片"
      ],
      "metadata": {
        "id": "BTydswGMBdbc"
      }
    },
    {
      "cell_type": "code",
      "source": [
        "img2=img.permute(1,2,0) #由於Dataset圖片為(C,H,W)要轉成shape(H,W,C)才能讓matplotlib顯示圖片\n",
        "plt.imshow(img2,cmap='gray')"
      ],
      "metadata": {
        "colab": {
          "base_uri": "https://localhost:8080/",
          "height": 448
        },
        "id": "XRG7NzT9Bu49",
        "outputId": "4974eb01-7d79-4ec1-dba0-686b5f46e629"
      },
      "execution_count": null,
      "outputs": [
        {
          "output_type": "execute_result",
          "data": {
            "text/plain": [
              "<matplotlib.image.AxesImage at 0x7f1181d83d90>"
            ]
          },
          "metadata": {},
          "execution_count": 27
        },
        {
          "output_type": "display_data",
          "data": {
            "text/plain": [
              "<Figure size 640x480 with 1 Axes>"
            ],
            "image/png": "[encoded data removed]"
          },
          "metadata": {}
        }
      ]
    },
    {
      "cell_type": "markdown",
      "source": [
        "step 9:印出第0筆影像的標籤"
      ],
      "metadata": {
        "id": "sE08mD7vCjEh"
      }
    },
    {
      "cell_type": "code",
      "source": [
        "print(label)"
      ],
      "metadata": {
        "colab": {
          "base_uri": "https://localhost:8080/"
        },
        "id": "sSsJe4ybCp24",
        "outputId": "37633f91-21f5-4078-c2f2-bc88f19aa653"
      },
      "execution_count": null,
      "outputs": [
        {
          "output_type": "stream",
          "name": "stdout",
          "text": [
            "5\n"
          ]
        }
      ]
    },
    {
      "cell_type": "markdown",
      "source": [
        "step 10:建立DataLoader"
      ],
      "metadata": {
        "id": "pdfQ0vuaCwEj"
      }
    },
    {
      "cell_type": "code",
      "source": [
        "train_dataloader=DataLoader(train_data,batch_size=32,shuffle=True)\n",
        "test_dataloader=DataLoader(test_data,batch_size=500,shuffle=False)"
      ],
      "metadata": {
        "id": "c3FG4eJzC02c"
      },
      "execution_count": null,
      "outputs": []
    },
    {
      "cell_type": "markdown",
      "source": [
        "step 11:定義CNN模型"
      ],
      "metadata": {
        "id": "TF8JfP-aEqVb"
      }
    },
    {
      "cell_type": "code",
      "source": [
        "class ConvNet(nn.Module):\n",
        "  def __init__(self):\n",
        "    super(ConvNet,self).__init__()\n",
        "    self.cn1=nn.Conv2d(1,16,3,1)#通道數，輸出通道核數(有多少片的捲積核)，kernel_size，stride(步數)\n",
        "    self.cn2=nn.Conv2d(16,32,3,1)\n",
        "    self.dp1=nn.Dropout(0.10)#丟棄綠10%\n",
        "    self.dp2=nn.Dropout(0.25)#丟棄綠25%\n",
        "    self.fc1=nn.Linear(12*12*32,64)#feature_in,feature_out\n",
        "    self.fc2=nn.Linear(64,10)\n",
        "  def forward(self,x):\n",
        "    #以下是圖片的預先處理\n",
        "    x=self.cn1(x)      #輸出圖片(C,H,W)=(16,26,26)\n",
        "    x=F.relu(x)\n",
        "    x=self.cn2(x)      #輸出圖片(C,H,W)=(32,24,24)\n",
        "    x=F.relu(x)\n",
        "    x=F.max_pool2d(x,2)   #池化#輸出圖片(C,H,W)=(32,12,12)\n",
        "    x=torch.flatten(x,1)  #展平\n",
        "    #以下就是神經網路\n",
        "    x=self.fc1(x)      #linear layer\n",
        "    x=self.dp1(x)      #dropout layer\n",
        "    x=F.relu(x)       #activation function\n",
        "    x=self.fc2(x)      #linear layer\n",
        "    x=self.dp2(x)      #dropout layer\n",
        "    op=F.log_softmax(x,dim=1)\n",
        "    return op"
      ],
      "metadata": {
        "id": "5otI0Ya-EyC5"
      },
      "execution_count": null,
      "outputs": []
    },
    {
      "cell_type": "markdown",
      "source": [
        "step 12:建立模型實例，放到GPU/cpu"
      ],
      "metadata": {
        "id": "L0XV1VOkNwvY"
      }
    },
    {
      "cell_type": "code",
      "source": [
        "device=torch.device('cpu')#'cpu'/'cuda:0'\n",
        "model=ConvNet().to(device)"
      ],
      "metadata": {
        "id": "iDCHTTgYN4x5"
      },
      "execution_count": null,
      "outputs": []
    },
    {
      "cell_type": "markdown",
      "source": [
        "step 13:定義損失函數及最佳方法"
      ],
      "metadata": {
        "id": "WQmHgjm3Oi3h"
      }
    },
    {
      "cell_type": "code",
      "source": [
        "myloss=nn.NLLLoss()\n",
        "myoptim=optim.Adadelta(model.parameters(),lr=0.1)"
      ],
      "metadata": {
        "id": "m8ch-UxQPioF"
      },
      "execution_count": null,
      "outputs": []
    },
    {
      "cell_type": "markdown",
      "source": [
        "step 14:定義train()副程式，用來訓練"
      ],
      "metadata": {
        "id": "IU4MDGrmPiW6"
      }
    },
    {
      "cell_type": "code",
      "source": [
        "def train(model,device,train_dataloader,myloss,myoptim,epoch):\n",
        "  model.train()\n",
        "  for b_i,(X,y) in enumerate(train_dataloader):\n",
        "    X,y=X.to(device),y.to(device)\n",
        "    pred_prob=model(X)\n",
        "    loss=myloss(pred_prob,y)\n",
        "\n",
        "    myoptim.zero_grad()\n",
        "    loss.backward()\n",
        "    myoptim.step()\n",
        "\n",
        "    if b_i%200 == 0:\n",
        "      num1=b_i*len(X)\n",
        "      num2=len(train_dataloader.dataset)\n",
        "      num3=100*b_i/len(train_dataloader)\n",
        "      print('epoch:{}[{}/{}({:.0f}%)]\\t training loss:{:.6f}'.format(epoch,num1,num2,num3,loss.item()))"
      ],
      "metadata": {
        "id": "QttVTVgYP733"
      },
      "execution_count": null,
      "outputs": []
    },
    {
      "cell_type": "markdown",
      "source": [
        "step 15:執行3個訓練回合"
      ],
      "metadata": {
        "id": "_fqkbYHhSI8c"
      }
    },
    {
      "cell_type": "code",
      "source": [
        "epochs=3\n",
        "for epoch in range(epochs):\n",
        "  train(model,device,train_dataloader,myloss,myoptim,epoch)"
      ],
      "metadata": {
        "colab": {
          "base_uri": "https://localhost:8080/"
        },
        "id": "2FG78FWvSQB6",
        "outputId": "ee824c37-0f6b-4ba8-dee9-bbf029742511"
      },
      "execution_count": null,
      "outputs": [
        {
          "output_type": "stream",
          "name": "stdout",
          "text": [
            "epoch:0[0/60000(0%)]\t training loss:0.317319\n",
            "epoch:0[6400/60000(11%)]\t training loss:0.146253\n",
            "epoch:0[12800/60000(21%)]\t training loss:0.435647\n",
            "epoch:0[19200/60000(32%)]\t training loss:0.294540\n",
            "epoch:0[25600/60000(43%)]\t training loss:0.356567\n",
            "epoch:0[32000/60000(53%)]\t training loss:0.247070\n",
            "epoch:0[38400/60000(64%)]\t training loss:0.348587\n",
            "epoch:0[44800/60000(75%)]\t training loss:0.507517\n",
            "epoch:0[51200/60000(85%)]\t training loss:0.244883\n",
            "epoch:0[57600/60000(96%)]\t training loss:0.298453\n",
            "epoch:1[0/60000(0%)]\t training loss:0.283964\n",
            "epoch:1[6400/60000(11%)]\t training loss:0.285634\n",
            "epoch:1[12800/60000(21%)]\t training loss:0.348085\n",
            "epoch:1[19200/60000(32%)]\t training loss:0.134696\n",
            "epoch:1[25600/60000(43%)]\t training loss:0.433822\n",
            "epoch:1[32000/60000(53%)]\t training loss:0.300083\n",
            "epoch:1[38400/60000(64%)]\t training loss:0.303889\n",
            "epoch:1[44800/60000(75%)]\t training loss:0.335317\n",
            "epoch:1[51200/60000(85%)]\t training loss:0.268229\n",
            "epoch:1[57600/60000(96%)]\t training loss:0.295368\n",
            "epoch:2[0/60000(0%)]\t training loss:0.387169\n",
            "epoch:2[6400/60000(11%)]\t training loss:0.363522\n",
            "epoch:2[12800/60000(21%)]\t training loss:0.301458\n",
            "epoch:2[19200/60000(32%)]\t training loss:0.454437\n",
            "epoch:2[25600/60000(43%)]\t training loss:0.552131\n",
            "epoch:2[32000/60000(53%)]\t training loss:0.409580\n",
            "epoch:2[38400/60000(64%)]\t training loss:0.305029\n",
            "epoch:2[44800/60000(75%)]\t training loss:0.352514\n",
            "epoch:2[51200/60000(85%)]\t training loss:0.378761\n",
            "epoch:2[57600/60000(96%)]\t training loss:0.405746\n"
          ]
        }
      ]
    },
    {
      "cell_type": "markdown",
      "source": [
        "step 16:儲存模型"
      ],
      "metadata": {
        "id": "RnorKhVYU5Zc"
      }
    },
    {
      "cell_type": "code",
      "source": [
        "from google.colab import drive#google colab會把檔案讀到google drive中 #沒有上傳才執行\n",
        "# 將自己的雲端硬碟掛載上去\n",
        "drive.mount('/content/drive')#連結自己的雲端硬碟"
      ],
      "metadata": {
        "colab": {
          "base_uri": "https://localhost:8080/"
        },
        "id": "Q9NMrQshGQxm",
        "outputId": "7c22f66a-8295-425c-fc3b-71d4f376fa4e"
      },
      "execution_count": null,
      "outputs": [
        {
          "output_type": "stream",
          "name": "stdout",
          "text": [
            "Drive already mounted at /content/drive; to attempt to forcibly remount, call drive.mount(\"/content/drive\", force_remount=True).\n"
          ]
        }
      ]
    },
    {
      "cell_type": "code",
      "source": [
        "# 透過 gdrive/My Drive/... 來存取檔案\n",
        "torch.save(model.state_dict(),\"/content/drive/My Drive/Colab Notebooks/mnist_model.pt\")\n"
      ],
      "metadata": {
        "id": "8IY7U1BwVDFi"
      },
      "execution_count": null,
      "outputs": []
    },
    {
      "cell_type": "markdown",
      "source": [
        "step 17:載入模型"
      ],
      "metadata": {
        "id": "UePzlBnQUvit"
      }
    },
    {
      "cell_type": "code",
      "source": [
        "model2=ConvNet()\n",
        "model2.load_state_dict(torch.load(\"/content/drive/My Drive/Colab Notebooks/mnist_model.pt\"))\n",
        "model2=model2.to(device)\n"
      ],
      "metadata": {
        "id": "qbfWaz9yVuqu"
      },
      "execution_count": null,
      "outputs": []
    },
    {
      "cell_type": "markdown",
      "source": [
        "step 18:定義test()副程式，已用測試模型"
      ],
      "metadata": {
        "id": "jXNnh-CwV_uI"
      }
    },
    {
      "cell_type": "code",
      "source": [
        "def test(model,device,test_dataloader,myloss):\n",
        "  model.eval()\n",
        "  loss=0\n",
        "  success=0\n",
        "  with torch.no_grad():\n",
        "    for X,y in test_dataloader:\n",
        "      X,y=X.to(device),y.to(device)\n",
        "      pred_prob=model(X)\n",
        "      loss+=myloss(pred_prob,y).item()\n",
        "\n",
        "      pred=pred_prob.argmax(dim=1,keepdim=True)\n",
        "      success += pred.eq(y.view_as(pred)).sum().item()\n",
        "\n",
        "      num1= loss/len(test_dataloader)\n",
        "      num2= len(test_dataloader.dataset)\n",
        "      num3=100*success/len(test_dataloader.dataset)\n",
        "      print('Overall Loss:{:.4f},Overall Accuracy:{}/{}({:.2f}%)'.format(num1,success,num2,num3))"
      ],
      "metadata": {
        "id": "zmzwKcIZWHwc"
      },
      "execution_count": null,
      "outputs": []
    },
    {
      "cell_type": "markdown",
      "source": [
        "step 19:測試模型"
      ],
      "metadata": {
        "id": "d_hj8TrWWHWG"
      }
    },
    {
      "cell_type": "code",
      "source": [
        "test(model2,device,test_dataloader,myloss)"
      ],
      "metadata": {
        "colab": {
          "base_uri": "https://localhost:8080/"
        },
        "id": "WHGWkQOqYdaJ",
        "outputId": "41a6e7aa-bb6a-4148-fa4f-e26d998e3518"
      },
      "execution_count": null,
      "outputs": [
        {
          "output_type": "stream",
          "name": "stdout",
          "text": [
            "Overall Loss:0.0003,Overall Accuracy:494/60000(0.82%)\n",
            "Overall Loss:0.0006,Overall Accuracy:990/60000(1.65%)\n",
            "Overall Loss:0.0007,Overall Accuracy:1487/60000(2.48%)\n",
            "Overall Loss:0.0009,Overall Accuracy:1986/60000(3.31%)\n",
            "Overall Loss:0.0009,Overall Accuracy:2484/60000(4.14%)\n",
            "Overall Loss:0.0013,Overall Accuracy:2979/60000(4.96%)\n",
            "Overall Loss:0.0013,Overall Accuracy:3479/60000(5.80%)\n",
            "Overall Loss:0.0014,Overall Accuracy:3974/60000(6.62%)\n",
            "Overall Loss:0.0017,Overall Accuracy:4468/60000(7.45%)\n",
            "Overall Loss:0.0017,Overall Accuracy:4968/60000(8.28%)\n",
            "Overall Loss:0.0020,Overall Accuracy:5465/60000(9.11%)\n",
            "Overall Loss:0.0021,Overall Accuracy:5962/60000(9.94%)\n",
            "Overall Loss:0.0024,Overall Accuracy:6457/60000(10.76%)\n",
            "Overall Loss:0.0025,Overall Accuracy:6956/60000(11.59%)\n",
            "Overall Loss:0.0027,Overall Accuracy:7453/60000(12.42%)\n",
            "Overall Loss:0.0029,Overall Accuracy:7951/60000(13.25%)\n",
            "Overall Loss:0.0031,Overall Accuracy:8448/60000(14.08%)\n",
            "Overall Loss:0.0035,Overall Accuracy:8942/60000(14.90%)\n",
            "Overall Loss:0.0037,Overall Accuracy:9437/60000(15.73%)\n",
            "Overall Loss:0.0038,Overall Accuracy:9937/60000(16.56%)\n",
            "Overall Loss:0.0039,Overall Accuracy:10436/60000(17.39%)\n",
            "Overall Loss:0.0042,Overall Accuracy:10932/60000(18.22%)\n",
            "Overall Loss:0.0042,Overall Accuracy:11431/60000(19.05%)\n",
            "Overall Loss:0.0044,Overall Accuracy:11928/60000(19.88%)\n",
            "Overall Loss:0.0044,Overall Accuracy:12428/60000(20.71%)\n",
            "Overall Loss:0.0045,Overall Accuracy:12927/60000(21.55%)\n",
            "Overall Loss:0.0046,Overall Accuracy:13427/60000(22.38%)\n",
            "Overall Loss:0.0047,Overall Accuracy:13926/60000(23.21%)\n",
            "Overall Loss:0.0048,Overall Accuracy:14424/60000(24.04%)\n",
            "Overall Loss:0.0049,Overall Accuracy:14919/60000(24.86%)\n",
            "Overall Loss:0.0052,Overall Accuracy:15416/60000(25.69%)\n",
            "Overall Loss:0.0054,Overall Accuracy:15914/60000(26.52%)\n",
            "Overall Loss:0.0055,Overall Accuracy:16412/60000(27.35%)\n",
            "Overall Loss:0.0056,Overall Accuracy:16909/60000(28.18%)\n",
            "Overall Loss:0.0058,Overall Accuracy:17406/60000(29.01%)\n",
            "Overall Loss:0.0059,Overall Accuracy:17902/60000(29.84%)\n",
            "Overall Loss:0.0060,Overall Accuracy:18400/60000(30.67%)\n",
            "Overall Loss:0.0061,Overall Accuracy:18900/60000(31.50%)\n",
            "Overall Loss:0.0063,Overall Accuracy:19396/60000(32.33%)\n",
            "Overall Loss:0.0064,Overall Accuracy:19896/60000(33.16%)\n",
            "Overall Loss:0.0065,Overall Accuracy:20394/60000(33.99%)\n",
            "Overall Loss:0.0066,Overall Accuracy:20891/60000(34.82%)\n",
            "Overall Loss:0.0068,Overall Accuracy:21387/60000(35.65%)\n",
            "Overall Loss:0.0069,Overall Accuracy:21886/60000(36.48%)\n",
            "Overall Loss:0.0069,Overall Accuracy:22385/60000(37.31%)\n",
            "Overall Loss:0.0071,Overall Accuracy:22883/60000(38.14%)\n",
            "Overall Loss:0.0071,Overall Accuracy:23383/60000(38.97%)\n",
            "Overall Loss:0.0074,Overall Accuracy:23878/60000(39.80%)\n",
            "Overall Loss:0.0075,Overall Accuracy:24378/60000(40.63%)\n",
            "Overall Loss:0.0077,Overall Accuracy:24875/60000(41.46%)\n",
            "Overall Loss:0.0077,Overall Accuracy:25374/60000(42.29%)\n",
            "Overall Loss:0.0080,Overall Accuracy:25870/60000(43.12%)\n",
            "Overall Loss:0.0081,Overall Accuracy:26367/60000(43.95%)\n",
            "Overall Loss:0.0086,Overall Accuracy:26860/60000(44.77%)\n",
            "Overall Loss:0.0087,Overall Accuracy:27358/60000(45.60%)\n",
            "Overall Loss:0.0090,Overall Accuracy:27852/60000(46.42%)\n",
            "Overall Loss:0.0091,Overall Accuracy:28349/60000(47.25%)\n",
            "Overall Loss:0.0093,Overall Accuracy:28845/60000(48.08%)\n",
            "Overall Loss:0.0094,Overall Accuracy:29343/60000(48.91%)\n",
            "Overall Loss:0.0095,Overall Accuracy:29841/60000(49.73%)\n",
            "Overall Loss:0.0096,Overall Accuracy:30340/60000(50.57%)\n",
            "Overall Loss:0.0097,Overall Accuracy:30840/60000(51.40%)\n",
            "Overall Loss:0.0099,Overall Accuracy:31335/60000(52.23%)\n",
            "Overall Loss:0.0100,Overall Accuracy:31834/60000(53.06%)\n",
            "Overall Loss:0.0102,Overall Accuracy:32331/60000(53.88%)\n",
            "Overall Loss:0.0103,Overall Accuracy:32829/60000(54.72%)\n",
            "Overall Loss:0.0104,Overall Accuracy:33327/60000(55.55%)\n",
            "Overall Loss:0.0105,Overall Accuracy:33825/60000(56.38%)\n",
            "Overall Loss:0.0106,Overall Accuracy:34324/60000(57.21%)\n",
            "Overall Loss:0.0109,Overall Accuracy:34819/60000(58.03%)\n",
            "Overall Loss:0.0112,Overall Accuracy:35316/60000(58.86%)\n",
            "Overall Loss:0.0113,Overall Accuracy:35814/60000(59.69%)\n",
            "Overall Loss:0.0114,Overall Accuracy:36312/60000(60.52%)\n",
            "Overall Loss:0.0115,Overall Accuracy:36810/60000(61.35%)\n",
            "Overall Loss:0.0117,Overall Accuracy:37308/60000(62.18%)\n",
            "Overall Loss:0.0120,Overall Accuracy:37805/60000(63.01%)\n",
            "Overall Loss:0.0122,Overall Accuracy:38302/60000(63.84%)\n",
            "Overall Loss:0.0124,Overall Accuracy:38798/60000(64.66%)\n",
            "Overall Loss:0.0126,Overall Accuracy:39294/60000(65.49%)\n",
            "Overall Loss:0.0127,Overall Accuracy:39791/60000(66.32%)\n",
            "Overall Loss:0.0130,Overall Accuracy:40290/60000(67.15%)\n",
            "Overall Loss:0.0131,Overall Accuracy:40785/60000(67.97%)\n",
            "Overall Loss:0.0133,Overall Accuracy:41283/60000(68.81%)\n",
            "Overall Loss:0.0135,Overall Accuracy:41779/60000(69.63%)\n",
            "Overall Loss:0.0136,Overall Accuracy:42278/60000(70.46%)\n",
            "Overall Loss:0.0139,Overall Accuracy:42774/60000(71.29%)\n",
            "Overall Loss:0.0143,Overall Accuracy:43271/60000(72.12%)\n",
            "Overall Loss:0.0144,Overall Accuracy:43770/60000(72.95%)\n",
            "Overall Loss:0.0146,Overall Accuracy:44265/60000(73.78%)\n",
            "Overall Loss:0.0146,Overall Accuracy:44764/60000(74.61%)\n",
            "Overall Loss:0.0148,Overall Accuracy:45262/60000(75.44%)\n",
            "Overall Loss:0.0150,Overall Accuracy:45758/60000(76.26%)\n",
            "Overall Loss:0.0153,Overall Accuracy:46251/60000(77.08%)\n",
            "Overall Loss:0.0154,Overall Accuracy:46749/60000(77.92%)\n",
            "Overall Loss:0.0157,Overall Accuracy:47244/60000(78.74%)\n",
            "Overall Loss:0.0158,Overall Accuracy:47744/60000(79.57%)\n",
            "Overall Loss:0.0159,Overall Accuracy:48243/60000(80.41%)\n",
            "Overall Loss:0.0160,Overall Accuracy:48741/60000(81.23%)\n",
            "Overall Loss:0.0162,Overall Accuracy:49238/60000(82.06%)\n",
            "Overall Loss:0.0164,Overall Accuracy:49735/60000(82.89%)\n",
            "Overall Loss:0.0166,Overall Accuracy:50232/60000(83.72%)\n",
            "Overall Loss:0.0167,Overall Accuracy:50731/60000(84.55%)\n",
            "Overall Loss:0.0169,Overall Accuracy:51229/60000(85.38%)\n",
            "Overall Loss:0.0172,Overall Accuracy:51724/60000(86.21%)\n",
            "Overall Loss:0.0173,Overall Accuracy:52220/60000(87.03%)\n",
            "Overall Loss:0.0176,Overall Accuracy:52714/60000(87.86%)\n",
            "Overall Loss:0.0178,Overall Accuracy:53211/60000(88.69%)\n",
            "Overall Loss:0.0180,Overall Accuracy:53708/60000(89.51%)\n",
            "Overall Loss:0.0181,Overall Accuracy:54207/60000(90.34%)\n",
            "Overall Loss:0.0182,Overall Accuracy:54705/60000(91.17%)\n",
            "Overall Loss:0.0183,Overall Accuracy:55203/60000(92.00%)\n",
            "Overall Loss:0.0184,Overall Accuracy:55698/60000(92.83%)\n",
            "Overall Loss:0.0186,Overall Accuracy:56194/60000(93.66%)\n",
            "Overall Loss:0.0187,Overall Accuracy:56692/60000(94.49%)\n",
            "Overall Loss:0.0187,Overall Accuracy:57191/60000(95.32%)\n",
            "Overall Loss:0.0189,Overall Accuracy:57687/60000(96.14%)\n",
            "Overall Loss:0.0190,Overall Accuracy:58186/60000(96.98%)\n",
            "Overall Loss:0.0191,Overall Accuracy:58685/60000(97.81%)\n",
            "Overall Loss:0.0191,Overall Accuracy:59184/60000(98.64%)\n",
            "Overall Loss:0.0195,Overall Accuracy:59679/60000(99.47%)\n"
          ]
        }
      ]
    },
    {
      "cell_type": "markdown",
      "source": [
        "step 20: 取出影像測試"
      ],
      "metadata": {
        "id": "lG78jvmOElVy"
      }
    },
    {
      "cell_type": "code",
      "source": [
        "model2=model2.to(\"cpu\")\n",
        "sample_data,sample_targets=next(iter(test_dataloader))\n",
        "print(sample_data.shape)"
      ],
      "metadata": {
        "colab": {
          "base_uri": "https://localhost:8080/"
        },
        "id": "JgYp9B3gFRXB",
        "outputId": "3f7e6d0a-9d8e-4fef-fe54-2ed0a000b298"
      },
      "execution_count": null,
      "outputs": [
        {
          "output_type": "stream",
          "name": "stdout",
          "text": [
            "torch.Size([500, 1, 28, 28])\n"
          ]
        }
      ]
    },
    {
      "cell_type": "markdown",
      "source": [
        "step 21: 顯示第10筆的影像"
      ],
      "metadata": {
        "id": "lL33eB93JGWG"
      }
    },
    {
      "cell_type": "code",
      "source": [
        "plt.imshow(sample_data[2][0],cmap='gray')"
      ],
      "metadata": {
        "colab": {
          "base_uri": "https://localhost:8080/",
          "height": 448
        },
        "id": "vEuFe-axJPWa",
        "outputId": "c4f47fde-550b-4213-87ae-956cf1e4a78b"
      },
      "execution_count": null,
      "outputs": [
        {
          "output_type": "execute_result",
          "data": {
            "text/plain": [
              "<matplotlib.image.AxesImage at 0x7f11718cd3c0>"
            ]
          },
          "metadata": {},
          "execution_count": 64
        },
        {
          "output_type": "display_data",
          "data": {
            "text/plain": [
              "<Figure size 640x480 with 1 Axes>"
            ],
            "image/png": "[encoded data removed]"
          },
          "metadata": {}
        }
      ]
    },
    {
      "cell_type": "markdown",
      "source": [
        "step 22: 預測標籤"
      ],
      "metadata": {
        "id": "3z6ecHsGJvas"
      }
    },
    {
      "cell_type": "code",
      "source": [
        "pred_label=model2(sample_data).max(dim=1)[1][2]\n",
        "print(pred_label)"
      ],
      "metadata": {
        "colab": {
          "base_uri": "https://localhost:8080/"
        },
        "id": "QyyDkahoJ3ao",
        "outputId": "5f2cbddb-5847-4ecf-8b3d-f14b31a19d29"
      },
      "execution_count": null,
      "outputs": [
        {
          "output_type": "stream",
          "name": "stdout",
          "text": [
            "tensor(4)\n"
          ]
        }
      ]
    },
    {
      "cell_type": "markdown",
      "source": [
        "step 23: 顯示真實標籤與預測標籤"
      ],
      "metadata": {
        "id": "gMmKHPt0KVm7"
      }
    },
    {
      "cell_type": "code",
      "source": [
        "print(f\"Model prediction is :{pred_label}\")\n",
        "print(f\"Ground truth is:{sample_targets[2]}\")"
      ],
      "metadata": {
        "colab": {
          "base_uri": "https://localhost:8080/"
        },
        "id": "HKhZ3-yGKrbD",
        "outputId": "1e2996f8-7d96-437a-84cc-256e8779656e"
      },
      "execution_count": null,
      "outputs": [
        {
          "output_type": "stream",
          "name": "stdout",
          "text": [
            "Model prediction is :4\n",
            "Ground truth is:4\n"
          ]
        }
      ]
    }
  ]
}